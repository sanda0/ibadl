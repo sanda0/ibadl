{
 "cells": [
  {
   "cell_type": "code",
   "execution_count": 1,
   "id": "6322dee4",
   "metadata": {},
   "outputs": [],
   "source": [
    "from vimeo_downloader import Vimeo"
   ]
  },
  {
   "cell_type": "code",
   "execution_count": 3,
   "id": "306864e4",
   "metadata": {},
   "outputs": [],
   "source": [
    " v = Vimeo('https://player.vimeo.com/video/756692472',\n",
    "             embedded_on='https://www.iba.lk/new/play_video.php?link=')\n"
   ]
  },
  {
   "cell_type": "code",
   "execution_count": 15,
   "id": "8debe4c2",
   "metadata": {},
   "outputs": [
    {
     "name": "stdout",
     "output_type": "stream",
     "text": [
      "(360p) --\n"
     ]
    }
   ],
   "source": [
    "l = v.streams\n",
    "print(str(l[1]).replace(\"Stream\",\"\"),\"--\")\n"
   ]
  },
  {
   "cell_type": "code",
   "execution_count": 7,
   "id": "ba389a0d",
   "metadata": {},
   "outputs": [
    {
     "name": "stderr",
     "output_type": "stream",
     "text": [
      "xx.mp4: 171436KB [00:17, 9653.14KB/s]                                                                                                                                                                        \n"
     ]
    }
   ],
   "source": [
    " a = v.streams[0].download(download_directory='.',\n",
    "                          filename='xx')"
   ]
  },
  {
   "cell_type": "code",
   "execution_count": 8,
   "id": "f4c496f8",
   "metadata": {},
   "outputs": [
    {
     "name": "stdout",
     "output_type": "stream",
     "text": [
      "./xx.mp4\n"
     ]
    }
   ],
   "source": [
    "print(a)"
   ]
  },
  {
   "cell_type": "code",
   "execution_count": null,
   "id": "bee6eb7d",
   "metadata": {},
   "outputs": [],
   "source": []
  }
 ],
 "metadata": {
  "kernelspec": {
   "display_name": "Python 3 (ipykernel)",
   "language": "python",
   "name": "python3"
  },
  "language_info": {
   "codemirror_mode": {
    "name": "ipython",
    "version": 3
   },
   "file_extension": ".py",
   "mimetype": "text/x-python",
   "name": "python",
   "nbconvert_exporter": "python",
   "pygments_lexer": "ipython3",
   "version": "3.10.6"
  }
 },
 "nbformat": 4,
 "nbformat_minor": 5
}
